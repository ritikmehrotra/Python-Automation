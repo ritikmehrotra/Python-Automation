{
 "cells": [
  {
   "cell_type": "markdown",
   "metadata": {},
   "source": [
    "### Task 2: Python Automation Appium - DISCUSSION SESSION"
   ]
  },
  {
   "cell_type": "code",
   "execution_count": 5,
   "metadata": {},
   "outputs": [
    {
     "name": "stdout",
     "output_type": "stream",
     "text": [
      "Requirement already satisfied: selenium in c:\\users\\ritik\\anaconda3\\lib\\site-packages (3.141.0)\n",
      "Requirement already satisfied: Appium-Python-Client in c:\\users\\ritik\\anaconda3\\lib\\site-packages (1.2.0)\n",
      "Requirement already satisfied: urllib3 in c:\\users\\ritik\\anaconda3\\lib\\site-packages (from selenium) (1.25.11)\n"
     ]
    }
   ],
   "source": [
    "!pip install selenium Appium-Python-Client"
   ]
  },
  {
   "cell_type": "code",
   "execution_count": 1,
   "metadata": {},
   "outputs": [],
   "source": [
    "Disclaimer = \\\n",
    "{\n",
    "  \"platformName\": \"Android\",\n",
    "  \"appActivity\": \"com.atg.world.activity.SplashActivity\",\n",
    "  \"appWaitDuration\": \"5000\",\n",
    "  \"appExecTimeout\": \"50000\",\n",
    "  \"uiautomator2ServerLaunchTimeout\": \"50000\",\n",
    "  \"uiautomator2ServerInstallTimeout\": \"50000\",\n",
    "  \"appPackage\": \"com.ATG.World\",\n",
    "  \"deviceName\": \"emulator-5554\",\n",
    "  \"driver\": \"http://localhost:4723/wd/hub\"\n",
    "}"
   ]
  },
  {
   "cell_type": "code",
   "execution_count": 1,
   "metadata": {},
   "outputs": [],
   "source": [
    "import unittest\n",
    "from appium import webdriver\n",
    "import time\n",
    "from time import sleep"
   ]
  },
  {
   "cell_type": "code",
   "execution_count": 2,
   "metadata": {},
   "outputs": [],
   "source": [
    "desired_capabilities = {\"platformName\": \"Android\",\n",
    "                \"appPackage\": \"com.ATG.World\",\n",
    "                \"appActivity\": \"com.atg.world.activity.SplashActivity\",\n",
    "                \"deviceName\": \"emulator-5554\",}\n",
    "\n",
    "driver = webdriver.Remote('http://localhost:4723/wd/hub', desired_capabilities)"
   ]
  },
  {
   "cell_type": "code",
   "execution_count": 3,
   "metadata": {},
   "outputs": [],
   "source": [
    "driver.find_element_by_id('com.android.permissioncontroller:id/permission_allow_button').click()\n",
    "sleep(5)\n",
    "driver.find_element_by_id('com.ATG.World:id/getStartedTv').click()\n",
    "sleep(2)\n",
    "driver.find_element_by_id('com.ATG.World:id/login_email').click()\n",
    "sleep(2)"
   ]
  },
  {
   "cell_type": "code",
   "execution_count": 4,
   "metadata": {},
   "outputs": [
    {
     "name": "stdout",
     "output_type": "stream",
     "text": [
      "test_LoginWithRightCredential passed\n"
     ]
    }
   ],
   "source": [
    "email = driver.find_element_by_id(\"com.ATG.World:id/email\")\n",
    "email.send_keys('test_test@gmail.com')\n",
    "password = driver.find_element_by_id(\"com.ATG.World:id/password\")\n",
    "password.send_keys('Pass@123')\n",
    "signin = driver.find_element_by_id(\"com.ATG.World:id/email_sign_in_button\")\n",
    "signin.click()\n",
    "print(\"test_LoginWithRightCredential passed\")\n",
    "sleep(5)"
   ]
  },
  {
   "cell_type": "code",
   "execution_count": 5,
   "metadata": {},
   "outputs": [],
   "source": [
    "driver.tap([(166,880)],100) # Got It\n",
    "sleep(2)\n",
    "driver.tap([(166,1211)],100) # Got It\n",
    "sleep(2)"
   ]
  },
  {
   "cell_type": "code",
   "execution_count": 6,
   "metadata": {},
   "outputs": [],
   "source": [
    "driver.tap([(538,1916)],100) # Pencil\n",
    "sleep(2)\n",
    "driver.tap([(711,830)],100) # Post Image button\n",
    "time.sleep(2)\n",
    "#Allow Access to images\n",
    "driver.find_element_by_id('com.android.permissioncontroller:id/permission_allow_foreground_only_button').click()\n",
    "time.sleep(2)\n",
    "driver.tap([(404,1067)],100) # Select Image From Gallery\n",
    "time.sleep(2)\n",
    "driver.tap([(98,475)],100) # Select Downlaod folder\n",
    "time.sleep(2)\n",
    "driver.tap([(159,529)],100) # Select Image\n",
    "time.sleep(2)\n",
    "driver.tap([(141,384)],100) # Enter image Caption\n",
    "time.sleep(2)\n",
    "image_caption = driver.find_element_by_id('com.ATG.World:id/postCaption')\n",
    "image_caption.send_keys('Testing for task')\n",
    "time.sleep(2)\n",
    "\n",
    "#Post Image\n",
    "driver.find_element_by_id('com.ATG.World:id/toolbar_post_action').click()\n",
    "time.sleep(2)"
   ]
  },
  {
   "cell_type": "code",
   "execution_count": 12,
   "metadata": {},
   "outputs": [],
   "source": [
    "#driver.tap([(357,1161)],100) # question\n",
    "#sleep(2)\n",
    "#question = driver.find_element_by_id(\"com.ATG.World:id/ask_question_box_1\")\n",
    "#question.send_keys(\"Hi, How are you? ......testing\")\n",
    "#driver.find_element_by_id('com.ATG.World:id/toolbar_post_action').click()"
   ]
  },
  {
   "cell_type": "code",
   "execution_count": null,
   "metadata": {},
   "outputs": [],
   "source": []
  }
 ],
 "metadata": {
  "kernelspec": {
   "display_name": "Python 3",
   "language": "python",
   "name": "python3"
  },
  "language_info": {
   "codemirror_mode": {
    "name": "ipython",
    "version": 3
   },
   "file_extension": ".py",
   "mimetype": "text/x-python",
   "name": "python",
   "nbconvert_exporter": "python",
   "pygments_lexer": "ipython3",
   "version": "3.8.5"
  }
 },
 "nbformat": 4,
 "nbformat_minor": 4
}
